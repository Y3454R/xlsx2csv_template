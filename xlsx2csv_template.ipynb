{
  "nbformat": 4,
  "nbformat_minor": 0,
  "metadata": {
    "colab": {
      "provenance": []
    },
    "kernelspec": {
      "name": "python3",
      "display_name": "Python 3"
    },
    "language_info": {
      "name": "python"
    }
  },
  "cells": [
    {
      "cell_type": "code",
      "execution_count": 1,
      "metadata": {
        "colab": {
          "base_uri": "https://localhost:8080/"
        },
        "id": "odJgxXZtxxC6",
        "outputId": "0607efac-1d9a-426e-9b84-34acbf516950"
      },
      "outputs": [
        {
          "output_type": "stream",
          "name": "stdout",
          "text": [
            "Data integrity issue: Data mismatch found between Excel and CSV files\n",
            "Excel file aus_final.xlsx has been converted to CSV file aus_final.csv\n"
          ]
        }
      ],
      "source": [
        "import pandas as pd\n",
        "\n",
        "# Load the Excel file\n",
        "excel_file_path = 'aus_final.xlsx'  # Replace with your Excel file path\n",
        "\n",
        "# Read the Excel file (first sheet by default)\n",
        "df = pd.read_excel(excel_file_path)\n",
        "\n",
        "# Save to CSV\n",
        "csv_file_path = 'aus_final.csv'  # Replace with the desired CSV file path\n",
        "df.to_csv(csv_file_path, index=False)\n",
        "\n",
        "# Read the CSV file back to verify integrity\n",
        "df_csv = pd.read_csv(csv_file_path)\n",
        "\n",
        "# Check if dataframes are equal\n",
        "if df.equals(df_csv):\n",
        "    print(f'Data integrity verified: Excel file {excel_file_path} has been successfully converted to CSV file {csv_file_path}')\n",
        "else:\n",
        "    print(f'Data integrity issue: Data mismatch found between Excel and CSV files')\n",
        "\n",
        "print(f'Excel file {excel_file_path} has been converted to CSV file {csv_file_path}')\n"
      ]
    },
    {
      "cell_type": "code",
      "source": [
        "import pandas as pd\n",
        "\n",
        "# Load the Excel file\n",
        "excel_file_path = 'aus_final.xlsx'  # Replace with your Excel file path\n",
        "\n",
        "# Read the Excel file (first sheet by default)\n",
        "df_excel = pd.read_excel(excel_file_path)\n",
        "\n",
        "# Save to CSV\n",
        "csv_file_path = 'aus_final.csv'  # Replace with the desired CSV file path\n",
        "df_excel.to_csv(csv_file_path, index=False)\n",
        "\n",
        "# Read the CSV file back to verify integrity\n",
        "df_csv = pd.read_csv(csv_file_path)\n",
        "\n",
        "# Check if dataframes have the same shape\n",
        "if df_excel.shape != df_csv.shape:\n",
        "    print(f'Shape mismatch: Excel shape {df_excel.shape} vs CSV shape {df_csv.shape}')\n",
        "else:\n",
        "    print(f'Shape match: Both have shape {df_excel.shape}')\n",
        "\n",
        "# Check for missing values\n",
        "missing_excel = df_excel.isnull().sum().sum()\n",
        "missing_csv = df_csv.isnull().sum().sum()\n",
        "\n",
        "print(f'Missing values - Excel: {missing_excel}, CSV: {missing_csv}')\n",
        "\n",
        "# Compare individual columns\n",
        "for column in df_excel.columns:\n",
        "    if not df_excel[column].equals(df_csv[column]):\n",
        "        print(f'Data mismatch found in column: {column}')\n",
        "        # Display differences\n",
        "        differences = df_excel[column] != df_csv[column]\n",
        "        print(df_excel.loc[differences])\n",
        "        print(df_csv.loc[differences])\n",
        "\n",
        "print(f'Excel file {excel_file_path} has been converted to CSV file {csv_file_path}')\n"
      ],
      "metadata": {
        "colab": {
          "base_uri": "https://localhost:8080/"
        },
        "id": "vfJNmM9xyXaP",
        "outputId": "4b6d56b0-1931-4534-ae4e-b494c8ceb9d4"
      },
      "execution_count": 2,
      "outputs": [
        {
          "output_type": "stream",
          "name": "stdout",
          "text": [
            "Shape match: Both have shape (464, 35)\n",
            "Missing values - Excel: 0, CSV: 0\n",
            "Data mismatch found in column: slope\n",
            "       district  upazilla       aus      pdsi   pdsi_class       aet  \\\n",
            "379  NILPHAMARI  Jaldhaka  suitable  0.434478  near normal  81.78843   \n",
            "\n",
            "    aet_class       vap vap_class        srad  ...      aspect  aspect_class  \\\n",
            "379       low  2.545696  moderate  199.343836  ...  172.344627      moderate   \n",
            "\n",
            "        slope  slope_class drainage_density  drainage_class soil_type  \\\n",
            "379  1.755745     very low         0.393855             low       4.0   \n",
            "\n",
            "     soil_type_class  elevation  elevation_class  \n",
            "379               Be  33.209445         very low  \n",
            "\n",
            "[1 rows x 35 columns]\n",
            "       district  upazilla       aus      pdsi   pdsi_class       aet  \\\n",
            "379  NILPHAMARI  Jaldhaka  suitable  0.434478  near normal  81.78843   \n",
            "\n",
            "    aet_class       vap vap_class        srad  ...      aspect  aspect_class  \\\n",
            "379       low  2.545696  moderate  199.343836  ...  172.344627      moderate   \n",
            "\n",
            "        slope  slope_class drainage_density  drainage_class soil_type  \\\n",
            "379  1.755745     very low         0.393855             low       4.0   \n",
            "\n",
            "     soil_type_class  elevation  elevation_class  \n",
            "379               Be  33.209445         very low  \n",
            "\n",
            "[1 rows x 35 columns]\n",
            "Excel file aus_final.xlsx has been converted to CSV file aus_final.csv\n"
          ]
        }
      ]
    },
    {
      "cell_type": "code",
      "source": [
        "import pandas as pd\n",
        "\n",
        "# Load the Excel file\n",
        "excel_file_path = 'aus_final.xlsx'  # Replace with your Excel file path\n",
        "\n",
        "# Read the Excel file (first sheet by default)\n",
        "df_excel = pd.read_excel(excel_file_path)\n",
        "\n",
        "# Save to CSV\n",
        "csv_file_path = 'aus_final.csv'  # Replace with the desired CSV file path\n",
        "df_excel.to_csv(csv_file_path, index=False)\n",
        "\n",
        "# Read the CSV file back to verify integrity\n",
        "df_csv = pd.read_csv(csv_file_path)\n",
        "\n",
        "# Check specific value differences for the 'slope' column in the mismatched row\n",
        "row_index = 379\n",
        "excel_value = df_excel.loc[row_index, 'slope']\n",
        "csv_value = df_csv.loc[row_index, 'slope']\n",
        "\n",
        "print(f\"Excel 'slope' value at row {row_index}: {excel_value}\")\n",
        "print(f\"CSV 'slope' value at row {row_index}: {csv_value}\")\n",
        "\n",
        "# Check for type differences\n",
        "print(f\"Type in Excel: {type(excel_value)}, Type in CSV: {type(csv_value)}\")\n",
        "\n",
        "# Use more precise comparison\n",
        "if pd.isna(excel_value) and pd.isna(csv_value):\n",
        "    print(\"Both values are NaN\")\n",
        "else:\n",
        "    if isinstance(excel_value, float) and isinstance(csv_value, float):\n",
        "        if abs(excel_value - csv_value) < 1e-9:\n",
        "            print(f\"The values are effectively equal (difference is within tolerance)\")\n",
        "        else:\n",
        "            print(f\"The values differ: {excel_value} (Excel) vs {csv_value} (CSV)\")\n",
        "    else:\n",
        "        print(f\"The values differ: {excel_value} (Excel) vs {csv_value} (CSV)\")\n",
        "\n",
        "# Investigate potential data type or pr\n"
      ],
      "metadata": {
        "colab": {
          "base_uri": "https://localhost:8080/"
        },
        "id": "VDkoefY7ylqm",
        "outputId": "69c5089f-7ec4-4c42-f2e1-fa91b81df16f"
      },
      "execution_count": 3,
      "outputs": [
        {
          "output_type": "stream",
          "name": "stdout",
          "text": [
            "Excel 'slope' value at row 379: 1.7557450000000001\n",
            "CSV 'slope' value at row 379: 1.755745\n",
            "Type in Excel: <class 'numpy.float64'>, Type in CSV: <class 'numpy.float64'>\n",
            "The values are effectively equal (difference is within tolerance)\n"
          ]
        }
      ]
    }
  ]
}